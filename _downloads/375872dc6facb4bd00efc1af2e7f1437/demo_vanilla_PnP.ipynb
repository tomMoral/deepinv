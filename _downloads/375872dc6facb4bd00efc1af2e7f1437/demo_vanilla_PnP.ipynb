{
  "cells": [
    {
      "cell_type": "markdown",
      "metadata": {},
      "source": [
        "\n# Vanilla PnP for computed tomography (CT).\n\nThis example shows how to use a standart PnP algorithm with DnCNN denoiser for computed tomography.\n"
      ]
    },
    {
      "cell_type": "code",
      "execution_count": null,
      "metadata": {
        "collapsed": false
      },
      "outputs": [],
      "source": [
        "import deepinv as dinv\nfrom pathlib import Path\nimport torch\nfrom deepinv.models import DnCNN\nfrom deepinv.optim.data_fidelity import L2\nfrom deepinv.optim.prior import PnP\nfrom deepinv.optim.optimizers import optim_builder\nfrom deepinv.utils.demo import load_url_image\nfrom deepinv.utils.plotting import plot, plot_curves"
      ]
    },
    {
      "cell_type": "markdown",
      "metadata": {},
      "source": [
        "## Setup paths for data loading and results.\n\n\n"
      ]
    },
    {
      "cell_type": "code",
      "execution_count": null,
      "metadata": {
        "collapsed": false
      },
      "outputs": [],
      "source": [
        "BASE_DIR = Path(\".\")\nRESULTS_DIR = BASE_DIR / \"results\""
      ]
    },
    {
      "cell_type": "markdown",
      "metadata": {},
      "source": [
        "## Load image and parameters\n\n"
      ]
    },
    {
      "cell_type": "code",
      "execution_count": null,
      "metadata": {
        "collapsed": false
      },
      "outputs": [],
      "source": [
        "# Set the global random seed from pytorch to ensure reproducibility of the example.\ntorch.manual_seed(0)\ndevice = dinv.utils.get_freer_gpu() if torch.cuda.is_available() else \"cpu\"\n# Set up the variable to fetch dataset and operators.\nmethod = \"PnP\"\nimg_size = 32\nurl = \"https://mycore.core-cloud.net/index.php/s/9EzDqcJxQUJKYul/download?path=%2Fdatasets&files=SheppLogan.png\"\nx = load_url_image(\n    url=url, img_size=img_size, grayscale=True, resize_mode=\"resize\", device=device\n)\noperation = \"tomography\""
      ]
    },
    {
      "cell_type": "markdown",
      "metadata": {},
      "source": [
        "## Set the forward operator\nWe use the :class:`deepinv.physics.Tomography`\nclass from the physics module to generate a CT measurements.\n\n"
      ]
    },
    {
      "cell_type": "code",
      "execution_count": null,
      "metadata": {
        "collapsed": false
      },
      "outputs": [],
      "source": [
        "noise_level_img = 0.03  # Gaussian Noise standard deviation for the degradation\nn_channels = 1  # 3 for color images, 1 for gray-scale images\nphysics = dinv.physics.Tomography(\n    img_width=img_size,\n    angles=100,\n    circle=False,\n    device=device,\n    noise_model=dinv.physics.GaussianNoise(sigma=noise_level_img),\n)\n\n# Use parallel dataloader if using a GPU to fasten training,\n# otherwise, as all computes are on CPU, use synchronous data loading.\nnum_workers = 4 if torch.cuda.is_available() else 0"
      ]
    },
    {
      "cell_type": "markdown",
      "metadata": {},
      "source": [
        "## Set up the PnP algorithm to solve the inverse problem.\nWe use the Proximal Gradient Descent optimization algorithm.\nThe algorithm alternates between a denoising step and a gradient descent step.\nThe denoising step is performed by a DNCNN pretrained denoiser :class:`deepinv.models.DnCNN`.\n\nSet up the PnP algorithm parameters : the ``stepsize``, ``g_param`` the noise level of the denoiser\nand ``lambda`` the regularization parameter. The following parameters have been chosen manually.\n\n"
      ]
    },
    {
      "cell_type": "code",
      "execution_count": null,
      "metadata": {
        "collapsed": false
      },
      "outputs": [],
      "source": [
        "# Logging parameters\nverbose = True\nplot_metrics = True  # compute performance and convergence metrics along the algorithm, curved saved in RESULTS_DIR\n\nparams_algo = {\"stepsize\": 1.0, \"g_param\": noise_level_img, \"lambda\": 0.01}\nmax_iter = 100\nearly_stop = True\n\n# Select the data fidelity term\ndata_fidelity = L2()\n\n# Specify the denoising prior\ndenoiser = DnCNN(\n    in_channels=n_channels,\n    out_channels=n_channels,\n    pretrained=\"download\",  # automatically downloads the pretrained weights, set to a path to use custom weights.\n    train=False,\n    device=device,\n)\nprior = PnP(denoiser=denoiser)\n\n# instantiate the algorithm class to solve the IP problem.\nmodel = optim_builder(\n    iteration=\"PGD\",\n    prior=prior,\n    data_fidelity=data_fidelity,\n    early_stop=early_stop,\n    max_iter=max_iter,\n    verbose=verbose,\n    params_algo=params_algo,\n)"
      ]
    },
    {
      "cell_type": "markdown",
      "metadata": {},
      "source": [
        "## Evaluate the model on the problem and plot the results.\n\nThe model returns the output and the metrics computed along the iterations.\nFor cumputing PSNR, the ground truth image ``x_gt`` must be provided.\n\n"
      ]
    },
    {
      "cell_type": "code",
      "execution_count": null,
      "metadata": {
        "collapsed": false
      },
      "outputs": [],
      "source": [
        "y = physics(x)\nx_lin = physics.A_adjoint(y)  # linear reconstruction with the adjoint operator\n\n# run the model on the problem.\nx_model, metrics = model(\n    y, physics, x_gt=x, compute_metrics=True\n)  # reconstruction with PnP algorithm\n\n# compute PSNR\nprint(f\"Linear reconstruction PSNR: {dinv.utils.metric.cal_psnr(x, x_lin):.2f} dB\")\nprint(f\"PnP reconstruction PSNR: {dinv.utils.metric.cal_psnr(x, x_model):.2f} dB\")\n\n# plot images. Images are saved in RESULTS_DIR.\nimgs = [y, x, x_lin, x_model]\nplot(\n    imgs,\n    titles=[\"Input\", \"GT\", \"Linear\", \"Recons.\"],\n    save_dir=RESULTS_DIR / \"images\",\n    show=True,\n)\n\n# plot convergence curves. Metrics are saved in RESULTS_DIR.\nif plot_metrics:\n    plot_curves(metrics, save_dir=RESULTS_DIR / \"curves\", show=True)"
      ]
    }
  ],
  "metadata": {
    "kernelspec": {
      "display_name": "Python 3",
      "language": "python",
      "name": "python3"
    },
    "language_info": {
      "codemirror_mode": {
        "name": "ipython",
        "version": 3
      },
      "file_extension": ".py",
      "mimetype": "text/x-python",
      "name": "python",
      "nbconvert_exporter": "python",
      "pygments_lexer": "ipython3",
      "version": "3.9.18"
    }
  },
  "nbformat": 4,
  "nbformat_minor": 0
}