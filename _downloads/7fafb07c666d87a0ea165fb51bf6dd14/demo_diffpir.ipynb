{
  "cells": [
    {
      "cell_type": "markdown",
      "metadata": {},
      "source": [
        "\n# Implementing DiffPIR\n\nIn this tutorial, we revisit the implementation of the DiffPIR diffusion algorithm for image reconstruction from\n[Zhou et al.](https://arxiv.org/abs/2305.08995). The full algorithm is implemented in\n:class:`deepinv.sampling.DiffPIR`.\n"
      ]
    },
    {
      "cell_type": "code",
      "execution_count": null,
      "metadata": {
        "collapsed": false
      },
      "outputs": [],
      "source": [
        "import numpy as np\nimport torch\nimport matplotlib.pyplot as plt\nfrom tqdm import tqdm\nimport deepinv as dinv\nfrom deepinv.utils.plotting import plot\nfrom deepinv.optim.data_fidelity import L2"
      ]
    },
    {
      "cell_type": "markdown",
      "metadata": {},
      "source": [
        "## Generate an inverse problem\n\nWe first generate a deblurring problem with the Butterfly image. We use a square blur kernel of size 5x5 and\nGaussian noise with standard deviation 12.75/255.0.\n\n<div class=\"alert alert-info\"><h4>Note</h4><p>We work with an image of size 64x64 to reduce the computational time of this example.\n          The algorithm works best with images of size 256x256.</p></div>\n\n\n"
      ]
    },
    {
      "cell_type": "code",
      "execution_count": null,
      "metadata": {
        "collapsed": false
      },
      "outputs": [],
      "source": [
        "from deepinv.utils.demo import load_url_image\n\ndevice = dinv.utils.get_freer_gpu() if torch.cuda.is_available() else \"cpu\"\n\nurl = (\n    \"https://mycore.core-cloud.net/index.php/s/9EzDqcJxQUJKYul/\"\n    \"download?path=%2Fdatasets&files=butterfly.png\"\n)\nx_true = load_url_image(url=url, img_size=64, device=device)\nx = x_true.clone()\n\nsigma_noise = 12.75 / 255.0  # noise level\n\nphysics = dinv.physics.BlurFFT(\n    img_size=(3, x.shape[-2], x.shape[-1]),\n    filter=torch.ones((1, 1, 5, 5), device=device) / 25,\n    device=device,\n    noise_model=dinv.physics.GaussianNoise(sigma=sigma_noise),\n)\n\ny = physics(x)\n\nimgs = [y, x_true]\nplot(\n    imgs,\n    titles=[\"measurement\", \"ground-truth\"],\n)"
      ]
    },
    {
      "cell_type": "markdown",
      "metadata": {},
      "source": [
        "## The DiffPIR algorithm\n\nNow that the inverse problem is defined, we can apply the DiffPIR algorithm to solve it. The DiffPIR algorithm is\na diffusion algorithm that alternates between a denoising step, a proximal step and a reverse diffusion sampling step.\nThe algorithm writes as follows, for $t$ decreasing from $T$ to $1$:\n\n\\begin{align}\\begin{equation*}\n        \\begin{aligned}\n        \\mathbf{x}_{0}^{t} &= \\denoiser{\\mathbf{x}_t}{\\sqrt{1-\\overline{\\alpha}_t}/\\sqrt{\\overline{\\alpha}_t}} \\\\\n        \\widehat{\\mathbf{x}}_{0}^{t} &= \\operatorname{prox}_{2 f(y, \\cdot) /{\\rho_t}}(\\mathbf{x}_{0}^{t}) \\\\\n        \\widehat{\\mathbf{\\varepsilon}} &= \\left(\\mathbf{x}_t - \\sqrt{\\overline{\\alpha}_t} \\,\\,\n        \\widehat{\\mathbf{x}}_{0}^t\\right)/\\sqrt{1-\\overline{\\alpha}_t} \\\\\n        \\mathbf{\\varepsilon}_t &= \\mathcal{N}(0, \\mathbf{I}) \\\\\n        \\mathbf{x}_{t-1} &= \\sqrt{\\overline{\\alpha}_t} \\,\\, \\widehat{\\mathbf{x}}_{0}^t + \\sqrt{1-\\overline{\\alpha}_t}\n        \\left(\\sqrt{1-\\zeta} \\,\\, \\widehat{\\mathbf{\\varepsilon}} + \\sqrt{\\zeta} \\,\\, \\mathbf{\\varepsilon}_t\\right),\n        \\end{aligned}\n        \\end{equation*}\\end{align}\n\nwhere $\\denoiser{\\cdot}{\\sigma}$ is a denoising network with noise level $\\sigma$,\n$\\mathcal{N}(0, \\mathbf{I})$ is a Gaussian noise\nwith zero mean and unit variance, $\\zeta$ is a parameter that controls the amount of noise added at each\niteration and $f$ refers to the data fidelity/measurement consistency term,\nwhich for Gaussian Noise (implemented as :class:`deepinv.optim.L2`) is given by:\n\n\\begin{align}f(\\mathbf{y}, \\mathbf{x}) = \\frac{1}{2}\\|\\mathbf{y} - \\mathcal{A}(\\mathbf{x})\\|^2\\end{align}\n\nNote that other data fidelity terms can be used, such as :class:`deepinv.optim.PoissonLikelihood`.\nThe parameters $(\\overline{\\alpha}_t)_{0\\leq t\\leq T}$ and $(\\rho_t)_{0\\leq t\\leq T}$ are\nsequences of positive numbers, which we will detail later on.\n\nLet us now implement each step of this algorithm.\n\n"
      ]
    },
    {
      "cell_type": "markdown",
      "metadata": {},
      "source": [
        "## Denoising step\n\nIn this section, we show how to use the denoising diffusion model from DiffPIR.\nThe denoising step is implemented by a denoising network conditioned on the noise power. The authors\nof DiffPIR use a U-Net architecture from [Ho et al.](https://arxiv.org/abs/2108.02938),\nwhich can be loaded as follows:\n\n"
      ]
    },
    {
      "cell_type": "code",
      "execution_count": null,
      "metadata": {
        "collapsed": false
      },
      "outputs": [],
      "source": [
        "model = dinv.models.DiffUNet(large_model=False).to(device)"
      ]
    },
    {
      "cell_type": "markdown",
      "metadata": {},
      "source": [
        "Before being able to use the pretrained model, we need to define the sequence\n$(\\overline{\\alpha}_t)_{0\\leq t\\leq T}$.\nThe following function returns these sequence:\n\n\n"
      ]
    },
    {
      "cell_type": "code",
      "execution_count": null,
      "metadata": {
        "collapsed": false
      },
      "outputs": [],
      "source": [
        "T = 1000  # Number of timesteps used during training\n\n\ndef get_alphas(beta_start=0.1 / 1000, beta_end=20 / 1000, num_train_timesteps=T):\n    betas = np.linspace(beta_start, beta_end, num_train_timesteps, dtype=np.float32)\n    betas = torch.from_numpy(betas).to(device)\n    alphas = 1.0 - betas\n    alphas_cumprod = np.cumprod(alphas.cpu(), axis=0)  # This is \\overline{\\alpha}_t\n    return torch.tensor(alphas_cumprod)\n\n\nalphas = get_alphas()"
      ]
    },
    {
      "cell_type": "markdown",
      "metadata": {},
      "source": [
        "Now that we have the sequence of interest, there remains to link noise power to the timestep. The following function\nreturns the timestep corresponding to a given noise power, which is given by\n\n\\begin{align}\\sigma_t = \\sqrt{1-\\overline{\\alpha}_t}/\\overline{\\alpha}_t.\\end{align}\n\n"
      ]
    },
    {
      "cell_type": "code",
      "execution_count": null,
      "metadata": {
        "collapsed": false
      },
      "outputs": [],
      "source": [
        "sigmas = torch.sqrt(1.0 - alphas) / alphas.sqrt()\n\n\ndef find_nearest(array, value):\n    array = np.asarray(array)\n    idx = (np.abs(array - value)).argmin()\n    return idx\n\n\nt = 100  # choose arbitrary timestep\n\n# We can now apply the model to a noisy image. We first generate a noisy image\nx_noisy = x_true + torch.randn_like(x_true) * sigmas[t]\n\nden = model(x_noisy, sigmas[t])\n\nimgs = [x_noisy, den, den - x_true]\nplot(\n    imgs,\n    titles=[\"noisy input\", \"denoised image\", \"error\"],\n)"
      ]
    },
    {
      "cell_type": "markdown",
      "metadata": {},
      "source": [
        "## Data fidelity step\n\nThe data fidelity step is easily implemented in this library. We simply need to define a data fidelity function and use\nits prox attribute. For instance:\n\n"
      ]
    },
    {
      "cell_type": "code",
      "execution_count": null,
      "metadata": {
        "collapsed": false
      },
      "outputs": [],
      "source": [
        "data_fidelity = L2()\n\n# In order to take a meaningful data fidelity step, it is best if we apply it to denoised measurements.\n# First, denoise the measurements:\ny_denoised = model(y, sigmas[t])\n\n# Next, apply the proximity operator of the data fidelity term (this is the data fidelity step). In the algorithm,\n# the regularization parameter is carefully chosen. Here, for simplicity, we set it to :math:`1/\\sigma`.\nx_prox = data_fidelity.prox(y_denoised, y, physics, gamma=1 / sigmas[t])\n\nimgs = [y, y_denoised, x_prox]\nplot(\n    imgs,\n    titles=[\"measurement\", \"denoised measurement\", \"data fidelity step\"],\n)"
      ]
    },
    {
      "cell_type": "markdown",
      "metadata": {},
      "source": [
        "## Sampling step\n\nThe last step to be implemented is the DiffPIR sampling step and this can be computed in two steps.\nFirstly, we need to compute the effective noise in the estimated reconstruction,\ni.e. the residual between the previous\nreconstruction and the data fidelity step. This is done as follows:\n\n<div class=\"alert alert-info\"><h4>Note</h4><p>The diffPIR algorithm assumes that the images are in the range [-1, 1], whereas standard denoisers\n          usually output images in the range [0, 1]. This is why we rescale the images before applying the steps.</p></div>\n\n"
      ]
    },
    {
      "cell_type": "code",
      "execution_count": null,
      "metadata": {
        "collapsed": false
      },
      "outputs": [],
      "source": [
        "x_prox_scaled = 2 * x_prox - 1  # Rescale the output of the proximal step in [-1, 1]\ny_scaled = 2 * y - 1  # Rescale the measurement in [-1, 1]\n\nt_i = find_nearest(\n    sigmas.cpu().numpy(), sigma_noise * 2\n)  # time step associated with the noise level sigma\neps = (y_scaled - alphas[t_i].sqrt() * x_prox_scaled) / torch.sqrt(\n    1.0 - alphas[t_i]\n)  # effective noise\n\n# (notice the rescaling)\n#\n# Secondly, we need to perform the sampling step, which is a linear combination between the estimated noise and\n# the realizations of a Gaussian white noise. This is done as follows:\nzeta = 0.3\nx_sampled_scaled = alphas[t_i - 1].sqrt() * x_prox_scaled + torch.sqrt(\n    1.0 - alphas[t_i - 1]\n) * (np.sqrt(1 - zeta) * eps + np.sqrt(zeta) * torch.randn_like(x))\n\nx_sampled = (x_sampled_scaled + 1) / 2  # Rescale the output in [0, 1]\n\nimgs = [y, y_denoised, x_prox, x_sampled]\nplot(\n    imgs,\n    titles=[\n        \"measurement\",\n        \"denoised measurement\",\n        \"data fidelity step\",\n        \"sampling step\",\n    ],\n)"
      ]
    },
    {
      "cell_type": "markdown",
      "metadata": {},
      "source": [
        "## Putting it all together: the DiffPIR algorithm\n\nWe can now put all the steps together and implement the DiffPIR algorithm. The only remaining step is to set the\nnoise schedule (i.e. the sequence of noise powers and regularization parameters) appropriately. This is done with the\nfollowing function:\n\n<div class=\"alert alert-info\"><h4>Note</h4><p>We only use 30 steps to reduce the computational time of this example. As suggested by the authors of DiffPIR, the\n  algorithm works best with ``diffusion_steps = 100``.</p></div>\n\n\n"
      ]
    },
    {
      "cell_type": "code",
      "execution_count": null,
      "metadata": {
        "collapsed": false
      },
      "outputs": [],
      "source": [
        "diffusion_steps = 30  # Maximum number of iterations of the DiffPIR algorithm\n\nlambda_ = 7.0  # Regularization parameter\n\nrhos = lambda_ * (sigma_noise**2) / (sigmas**2)\n\n# get timestep sequence\nseq = np.sqrt(np.linspace(0, T**2, diffusion_steps))\nseq = [int(s) for s in list(seq)]\nseq[-1] = seq[-1] - 1\n\n\n# Plot the noise and regularization schedules\nplt.figure(figsize=(6, 3))\nplt.rcParams.update({\"font.size\": 9})\nplt.subplot(121)\nplt.plot(\n    2 / rhos.cpu().numpy()[::-1]\n)  # Note that the regularization parameter is 2/rho and not rho\nplt.xlabel(r\"$t$\")\nplt.ylabel(r\"$\\rho$\")\nplt.subplot(122)\nplt.plot(sigmas.cpu().numpy()[::-1])\nplt.xlabel(r\"$t$\")\nplt.ylabel(r\"$\\sigma$\")\nplt.suptitle(\"Regularisation parameter and noise schedules\")\nplt.tight_layout()\nplt.show()"
      ]
    },
    {
      "cell_type": "markdown",
      "metadata": {},
      "source": [
        "Eventually, the DiffPIR algorithm is implemented as follows:\n\n\n"
      ]
    },
    {
      "cell_type": "code",
      "execution_count": null,
      "metadata": {
        "collapsed": false
      },
      "outputs": [],
      "source": [
        "# Initialization\nx = 2 * y - 1\n\nwith torch.no_grad():\n    for i in tqdm(range(len(seq))):\n        # Current and next noise levels\n        curr_sigma = sigmas[T - 1 - seq[i]].cpu().numpy()\n\n        # 1. Denoising step\n        x0 = model(x, curr_sigma)\n\n        if not seq[i] == seq[-1]:\n            # 2. Data fidelity step\n            t_i = find_nearest(sigmas.cpu(), curr_sigma)\n\n            x0 = data_fidelity.prox(x0, y, physics, gamma=1 / (2 * rhos[t_i]))\n\n            # Normalize data for sampling\n            x0 = 2 * x0 - 1\n            x = 2 * x - 1\n\n            # 3. Sampling step\n            next_sigma = sigmas[T - 1 - seq[i + 1]].cpu().numpy()\n            t_im1 = find_nearest(\n                sigmas, next_sigma\n            )  # time step associated with the next noise level\n\n            eps = (x - alphas[t_i].sqrt() * x0) / torch.sqrt(\n                1.0 - alphas[t_i]\n            )  # effective noise\n\n            x = alphas[t_im1].sqrt() * x0 + torch.sqrt(1.0 - alphas[t_im1]) * (\n                np.sqrt(1 - zeta) * eps + np.sqrt(zeta) * torch.randn_like(x)\n            )\n\n            # Rescale the output in [0, 1]\n            x = (x + 1) / 2\n\n\n# Plotting the results\nimgs = [y, x, x_true]\nplot(\n    imgs,\n    titles=[\"measurement\", \"model output\", \"ground-truth\"],\n)"
      ]
    },
    {
      "cell_type": "markdown",
      "metadata": {},
      "source": [
        "## Using the DiffPIR algorithm in your inverse problem\nYou can readily use this algorithm via the :meth:`deepinv.sampling.DiffPIR` class.\n\n::\n\n      y = physics(x)\n      model = dinv.sampling.DiffPIR(dinv.models.DiffUNet(), data_fidelity=dinv.optim.L2())\n      xhat = model(y, physics)\n\n\n"
      ]
    }
  ],
  "metadata": {
    "kernelspec": {
      "display_name": "Python 3",
      "language": "python",
      "name": "python3"
    },
    "language_info": {
      "codemirror_mode": {
        "name": "ipython",
        "version": 3
      },
      "file_extension": ".py",
      "mimetype": "text/x-python",
      "name": "python",
      "nbconvert_exporter": "python",
      "pygments_lexer": "ipython3",
      "version": "3.9.18"
    }
  },
  "nbformat": 4,
  "nbformat_minor": 0
}