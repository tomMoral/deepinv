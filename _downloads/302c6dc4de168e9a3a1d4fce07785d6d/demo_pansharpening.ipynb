{
  "cells": [
    {
      "cell_type": "markdown",
      "metadata": {},
      "source": [
        "\n# Stacking and concatenating forward operators.\n\nIn this example, we show how to stack and concatenate forward operators to create new operators.\nIn particular, we create a pan-sharpening operator by stacking a downsampling and a color-to-grayscale\noperators.\n"
      ]
    },
    {
      "cell_type": "code",
      "execution_count": null,
      "metadata": {
        "collapsed": false
      },
      "outputs": [],
      "source": [
        "import deepinv as dinv\nimport torch"
      ]
    },
    {
      "cell_type": "markdown",
      "metadata": {},
      "source": [
        "## Stacking forward operators.\nWe can define a new forward operator by stacking or concatenating existing operators. Mathematically, this is\nequivalent to obtaining\n\n\\begin{align}\\begin{bmatrix} y_1 \\\\ y_2 \\end{bmatrix} = \\begin{bmatrix} A_1 \\\\ A_2 \\end{bmatrix} x\\end{align}\n\nHere we show how to stack two operators, one that downsamples a color image and another that converts the color image\ngrayscale. This is equivalent to the :class:`deepinv.physics.Pansharpen` operator.\n\n"
      ]
    },
    {
      "cell_type": "code",
      "execution_count": null,
      "metadata": {
        "collapsed": false
      },
      "outputs": [],
      "source": [
        "img_size = (3, 64, 64)\nfactor = 2\nfilter = \"gaussian\"\ndevice = dinv.utils.get_freer_gpu() if torch.cuda.is_available() else \"cpu\"\n\nphysics1 = dinv.physics.Downsampling(\n    img_size=img_size, factor=factor, filter=filter, device=device\n)\nphysics2 = dinv.physics.Decolorize()\nphysics_stacked = physics2 + physics1"
      ]
    },
    {
      "cell_type": "markdown",
      "metadata": {},
      "source": [
        "## Generate toy image\n\nThis example uses a toy image with 3 color channels.\n\nThe measurements of a stacked operator are :class:`deepinv.utils.TensorList` objects, which are lists of tensors\nthat can be added, multiplied, etc. to other :class:`deepinv.utils.TensorList` objects. It is also possible to\ngenerate random or zero-filled :class:`deepinv.utils.TensorList` objects in one line of code (similarly to standard\n:class:`torch.Tensor`).\n\n\n"
      ]
    },
    {
      "cell_type": "code",
      "execution_count": null,
      "metadata": {
        "collapsed": false
      },
      "outputs": [],
      "source": [
        "x = torch.zeros((1,) + img_size, device=device)\nx[:, 0, 16:48, 16:48] = 0.7\n\ny = physics_stacked(x)\nxlin = physics_stacked.A_dagger(y)  # compute the linear pseudo-inverse\n\ndinv.utils.plot(\n    [x, y[0], y[1], xlin],\n    titles=[\"image\", \"high-res grayscale\", \"low-res color\", \"linear rec.\"],\n)"
      ]
    },
    {
      "cell_type": "markdown",
      "metadata": {},
      "source": [
        "## Verifying the stacked operator\n\nIf the operator is linear, it is recommended to verify that the transpose well-defined using\n:meth:`deepinv.physics.LinearPhysics.adjointness_test()`,\nand that it has a unit norm using :meth:`deepinv.physics.LinearPhysics.compute_norm()`.\n\n"
      ]
    },
    {
      "cell_type": "code",
      "execution_count": null,
      "metadata": {
        "collapsed": false
      },
      "outputs": [],
      "source": [
        "print(f\"The stacked operator has norm={physics_stacked.compute_norm(x):.2f}\")\n\nif physics_stacked.adjointness_test(x) < 1e-5:\n    print(\"The stacked operator has a well defined transpose\")"
      ]
    },
    {
      "cell_type": "markdown",
      "metadata": {},
      "source": [
        "## Concatenating forward operators.\n\nIt is also possible to concatenate operators using the ``*`` operator between two forward operators.\nHere we create a new operator that first downsamples the image, and then converts it to grayscale.\n\n"
      ]
    },
    {
      "cell_type": "code",
      "execution_count": null,
      "metadata": {
        "collapsed": false
      },
      "outputs": [],
      "source": [
        "physics_concat = physics2 * physics1\n\ny = physics_concat(x)\nxlin = physics_concat.A_dagger(y)  # compute the linear pseudo-inverse\n\ndinv.utils.plot([x, y, xlin], titles=[\"image\", \"measurement\", \"linear rec.\"])"
      ]
    },
    {
      "cell_type": "markdown",
      "metadata": {},
      "source": [
        "## Verifying the concatenated operator\n\n"
      ]
    },
    {
      "cell_type": "code",
      "execution_count": null,
      "metadata": {
        "collapsed": false
      },
      "outputs": [],
      "source": [
        "print(f\"The concatenated operator has norm={physics_concat.compute_norm(x):.2f}\")\n\nif physics_concat.adjointness_test(x) < 1e-5:\n    print(\"The concatenated operator has a well defined transpose\")"
      ]
    }
  ],
  "metadata": {
    "kernelspec": {
      "display_name": "Python 3",
      "language": "python",
      "name": "python3"
    },
    "language_info": {
      "codemirror_mode": {
        "name": "ipython",
        "version": 3
      },
      "file_extension": ".py",
      "mimetype": "text/x-python",
      "name": "python",
      "nbconvert_exporter": "python",
      "pygments_lexer": "ipython3",
      "version": "3.9.18"
    }
  },
  "nbformat": 4,
  "nbformat_minor": 0
}